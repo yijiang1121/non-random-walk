{
 "cells": [
  {
   "cell_type": "markdown",
   "metadata": {},
   "source": [
    "# Python OOP (part1)\n",
    "> About namespace\n",
    "\n",
    "- toc:true\n",
    "- branch: master\n",
    "- badges: true\n",
    "- comments: true\n",
    "- author: John Li\n",
    "- categories: [Visulization, Altair]"
   ]
  },
  {
   "cell_type": "markdown",
   "metadata": {},
   "source": [
    "Acknowledgement\n",
    "- Examples are from Raymond Hettinger's PyCon2020 talk; [link](https://www.youtube.com/watch?v=8moWQ1561FY)"
   ]
  },
  {
   "cell_type": "markdown",
   "metadata": {
    "collapsed": "true"
   },
   "source": [
    "## First way of supporting namespace: dict()"
   ]
  },
  {
   "cell_type": "code",
   "execution_count": 19,
   "metadata": {},
   "outputs": [
    {
     "data": {
      "text/plain": [
       "'tennis'"
      ]
     },
     "execution_count": 19,
     "metadata": {},
     "output_type": "execute_result"
    }
   ],
   "source": [
    "d = dict()\n",
    "d['john'] = 'tennis'\n",
    "d['john']"
   ]
  },
  {
   "cell_type": "markdown",
   "metadata": {
    "collapsed": "true"
   },
   "source": [
    "## Second way of supporting namespace: globals()"
   ]
  },
  {
   "cell_type": "code",
   "execution_count": 20,
   "metadata": {},
   "outputs": [
    {
     "data": {
      "text/html": [
       "<div>\n",
       "<style scoped>\n",
       "    .dataframe tbody tr th:only-of-type {\n",
       "        vertical-align: middle;\n",
       "    }\n",
       "\n",
       "    .dataframe tbody tr th {\n",
       "        vertical-align: top;\n",
       "    }\n",
       "\n",
       "    .dataframe thead th {\n",
       "        text-align: right;\n",
       "    }\n",
       "</style>\n",
       "<table border=\"1\" class=\"dataframe\">\n",
       "  <thead>\n",
       "    <tr style=\"text-align: right;\">\n",
       "      <th></th>\n",
       "      <th>id</th>\n",
       "    </tr>\n",
       "  </thead>\n",
       "  <tbody>\n",
       "    <tr>\n",
       "      <th>0</th>\n",
       "      <td>1</td>\n",
       "    </tr>\n",
       "    <tr>\n",
       "      <th>1</th>\n",
       "      <td>2</td>\n",
       "    </tr>\n",
       "  </tbody>\n",
       "</table>\n",
       "</div>"
      ],
      "text/plain": [
       "   id\n",
       "0   1\n",
       "1   2"
      ]
     },
     "execution_count": 20,
     "metadata": {},
     "output_type": "execute_result"
    }
   ],
   "source": [
    "import pandas as pd\n",
    "x = 10\n",
    "df = pd.DataFrame({'id':range(1,3)})\n",
    "df"
   ]
  },
  {
   "cell_type": "code",
   "execution_count": 21,
   "metadata": {},
   "outputs": [
    {
     "data": {
      "text/html": [
       "<div>\n",
       "<style scoped>\n",
       "    .dataframe tbody tr th:only-of-type {\n",
       "        vertical-align: middle;\n",
       "    }\n",
       "\n",
       "    .dataframe tbody tr th {\n",
       "        vertical-align: top;\n",
       "    }\n",
       "\n",
       "    .dataframe thead th {\n",
       "        text-align: right;\n",
       "    }\n",
       "</style>\n",
       "<table border=\"1\" class=\"dataframe\">\n",
       "  <thead>\n",
       "    <tr style=\"text-align: right;\">\n",
       "      <th></th>\n",
       "      <th>id</th>\n",
       "    </tr>\n",
       "  </thead>\n",
       "  <tbody>\n",
       "    <tr>\n",
       "      <th>0</th>\n",
       "      <td>1</td>\n",
       "    </tr>\n",
       "    <tr>\n",
       "      <th>1</th>\n",
       "      <td>2</td>\n",
       "    </tr>\n",
       "  </tbody>\n",
       "</table>\n",
       "</div>"
      ],
      "text/plain": [
       "   id\n",
       "0   1\n",
       "1   2"
      ]
     },
     "execution_count": 21,
     "metadata": {},
     "output_type": "execute_result"
    }
   ],
   "source": [
    "globals()['df']"
   ]
  },
  {
   "cell_type": "code",
   "execution_count": 22,
   "metadata": {},
   "outputs": [
    {
     "name": "stdout",
     "output_type": "stream",
     "text": [
      "10\n",
      "100\n"
     ]
    }
   ],
   "source": [
    "print(x)\n",
    "globals()['x'] = 100\n",
    "print(x)"
   ]
  },
  {
   "cell_type": "code",
   "execution_count": 23,
   "metadata": {},
   "outputs": [],
   "source": [
    "### Beautiful is better than ugly.\n",
    "import this"
   ]
  },
  {
   "cell_type": "markdown",
   "metadata": {},
   "source": [
    "## Third way of supporting namespace: from types import SimpleNamespace"
   ]
  },
  {
   "cell_type": "code",
   "execution_count": 28,
   "metadata": {},
   "outputs": [
    {
     "data": {
      "text/plain": [
       "namespace(a=99, b=100)"
      ]
     },
     "execution_count": 28,
     "metadata": {},
     "output_type": "execute_result"
    }
   ],
   "source": [
    "from types import SimpleNamespace\n",
    "ns = SimpleNamespace(a = 99, b = 100)\n",
    "ns"
   ]
  },
  {
   "cell_type": "markdown",
   "metadata": {},
   "source": [
    "## Emulate how dictionaries work"
   ]
  },
  {
   "cell_type": "markdown",
   "metadata": {},
   "source": [
    "### Manually adding to \"dictionary\""
   ]
  },
  {
   "cell_type": "code",
   "execution_count": 36,
   "metadata": {},
   "outputs": [
    {
     "name": "stdout",
     "output_type": "stream",
     "text": [
      "[[], [], [], [], [], [], [], []]\n",
      "[[], [], [], [], [], [], [], []]\n"
     ]
    }
   ],
   "source": [
    "n = 8\n",
    "karr = [ [] for i in range(n)]\n",
    "varr = [ [] for i in range(n)]\n",
    "print(karr)\n",
    "print(varr)"
   ]
  },
  {
   "cell_type": "code",
   "execution_count": 37,
   "metadata": {},
   "outputs": [
    {
     "data": {
      "text/plain": [
       "0"
      ]
     },
     "execution_count": 37,
     "metadata": {},
     "output_type": "execute_result"
    }
   ],
   "source": [
    "key, value = 'john', 'tennis'\n",
    "i = hash(key) % n\n",
    "i"
   ]
  },
  {
   "cell_type": "code",
   "execution_count": 38,
   "metadata": {},
   "outputs": [
    {
     "name": "stdout",
     "output_type": "stream",
     "text": [
      "[['john'], [], [], [], [], [], [], []]\n",
      "[['tennis'], [], [], [], [], [], [], []]\n"
     ]
    }
   ],
   "source": [
    "### manually typing commands to insert into \"dictonary\"\n",
    "karr[i].append(key)\n",
    "varr[i].append(value)\n",
    "print(karr)\n",
    "print(varr)"
   ]
  },
  {
   "cell_type": "markdown",
   "metadata": {},
   "source": [
    "### Using function to add to \"dictionary\""
   ]
  },
  {
   "cell_type": "code",
   "execution_count": 85,
   "metadata": {},
   "outputs": [],
   "source": [
    "def setup():\n",
    "    global n, karr, varr\n",
    "    n = 8\n",
    "    karr = [ [] for i in range(n)]\n",
    "    varr = [ [] for i in range(n)]\n",
    "\n",
    "def store(key, value):\n",
    "    i = hash(key) % n\n",
    "    karr[i].append(key)\n",
    "    varr[i].append(value)\n",
    "\n",
    "def lookup(key):\n",
    "    i = hash(key) % n\n",
    "    try:\n",
    "        j = karr[i].index(key)\n",
    "    except ValueError:\n",
    "        raise KeyError(key)\n",
    "    return varr[i][j]\n"
   ]
  },
  {
   "cell_type": "code",
   "execution_count": 86,
   "metadata": {},
   "outputs": [],
   "source": [
    "setup()\n",
    "store('john', 'tennis')\n",
    "store('jack', 'card')\n",
    "store('mark', 'soccer')\n",
    "store('sophie', 'basketball')"
   ]
  },
  {
   "cell_type": "code",
   "execution_count": 87,
   "metadata": {},
   "outputs": [
    {
     "name": "stdout",
     "output_type": "stream",
     "text": [
      "[['john', 'sophie'], [], ['mark'], ['jack'], [], [], [], []]\n",
      "[['tennis', 'basketball'], [], ['soccer'], ['card'], [], [], [], []]\n"
     ]
    }
   ],
   "source": [
    "print(karr)\n",
    "print(varr)"
   ]
  },
  {
   "cell_type": "code",
   "execution_count": 88,
   "metadata": {},
   "outputs": [
    {
     "name": "stdout",
     "output_type": "stream",
     "text": [
      "basketball\n"
     ]
    }
   ],
   "source": [
    "print(lookup('sophie'))"
   ]
  },
  {
   "cell_type": "markdown",
   "metadata": {},
   "source": [
    "The big problem is that there is only one namespace; and there is only one dictionary that can be used."
   ]
  },
  {
   "cell_type": "code",
   "execution_count": 89,
   "metadata": {},
   "outputs": [],
   "source": [
    "### Passing dictionary as namespace\n",
    "def setup(ns: dict):\n",
    "\n",
    "    ns['n'] = 8\n",
    "    ns['karr'] = [ [] for i in range(ns['n'])]\n",
    "    ns['varr'] = [ [] for i in range(ns['n'])]\n",
    "\n",
    "def store(ns, key, value):\n",
    "    i = hash(key) % ns['n']\n",
    "    ns['karr'][i].append(key)\n",
    "    ns['varr'][i].append(value)\n",
    "\n",
    "def lookup(ns, key):\n",
    "    i = hash(key) % ns['n']\n",
    "    try:\n",
    "        j = ns['karr'][i].index(key)\n",
    "    except ValueError:\n",
    "        raise KeyError(key)\n",
    "    return ns['varr'][i][j]\n",
    "\n",
    "ns1={}\n",
    "setup(ns1)\n",
    "store(ns1, 'john', 'tennis')\n",
    "store(ns1, 'jack', 'card')\n",
    "store(ns1, 'mark', 'soccer')\n",
    "store(ns1, 'sophie', 'basketball')\n",
    "\n",
    "\n",
    "ns2={}\n",
    "setup(ns2)\n",
    "store(ns2, 'john', 'iphone')\n",
    "store(ns2, 'jack', 'ipad')\n",
    "store(ns2, 'mark', 'android')\n",
    "store(ns2, 'sophie', 'chrome')\n",
    "\n",
    "ns3=globals()\n",
    "setup(ns3)\n",
    "store(ns3, 'john', 'red')\n",
    "store(ns3, 'jack', 'green')\n",
    "store(ns3, 'mark', 'blue')\n",
    "store(ns3, 'sophie', 'yellow')"
   ]
  },
  {
   "cell_type": "code",
   "execution_count": 90,
   "metadata": {},
   "outputs": [
    {
     "data": {
      "text/plain": [
       "{'n': 8,\n",
       " 'karr': [['john', 'sophie'], [], ['mark'], ['jack'], [], [], [], []],\n",
       " 'varr': [['tennis', 'basketball'], [], ['soccer'], ['card'], [], [], [], []]}"
      ]
     },
     "execution_count": 90,
     "metadata": {},
     "output_type": "execute_result"
    }
   ],
   "source": [
    "ns1"
   ]
  },
  {
   "cell_type": "code",
   "execution_count": 91,
   "metadata": {},
   "outputs": [
    {
     "data": {
      "text/plain": [
       "{'n': 8,\n",
       " 'karr': [['john', 'sophie'], [], ['mark'], ['jack'], [], [], [], []],\n",
       " 'varr': [['iphone', 'chrome'], [], ['android'], ['ipad'], [], [], [], []]}"
      ]
     },
     "execution_count": 91,
     "metadata": {},
     "output_type": "execute_result"
    }
   ],
   "source": [
    "ns2"
   ]
  },
  {
   "cell_type": "code",
   "execution_count": 92,
   "metadata": {},
   "outputs": [
    {
     "name": "stdout",
     "output_type": "stream",
     "text": [
      "[['john', 'sophie'], [], ['mark'], ['jack'], [], [], [], []]\n",
      "[['red', 'yellow'], [], ['blue'], ['green'], [], [], [], []]\n"
     ]
    }
   ],
   "source": [
    "print(ns3['karr'])\n",
    "print(ns3['varr'])"
   ]
  },
  {
   "cell_type": "code",
   "execution_count": 93,
   "metadata": {},
   "outputs": [
    {
     "data": {
      "text/plain": [
       "[['red', 'yellow'], [], ['blue'], ['green'], [], [], [], []]"
      ]
     },
     "execution_count": 93,
     "metadata": {},
     "output_type": "execute_result"
    }
   ],
   "source": [
    "varr"
   ]
  },
  {
   "cell_type": "markdown",
   "metadata": {},
   "source": [
    "Let's use simple namespace to make things a little \"prettier\""
   ]
  },
  {
   "cell_type": "code",
   "execution_count": 99,
   "metadata": {},
   "outputs": [],
   "source": [
    "def setup(ns: SimpleNamespace):\n",
    "    ns.n = 8\n",
    "    ns.karr = [ [] for i in range(ns.n)]\n",
    "    ns.varr = [ [] for i in range(ns.n)]\n",
    "\n",
    "def store(ns, key, value):\n",
    "    i = hash(key) % ns.n\n",
    "    ns.karr[i].append(key)\n",
    "    ns.varr[i].append(value)\n",
    "\n",
    "def lookup(ns, key):\n",
    "    i = hash(key) % ns.n\n",
    "    try:\n",
    "        j = ns.karr[i].index(key)\n",
    "    except ValueError:\n",
    "        raise KeyError(key)\n",
    "    return ns.varr[i][j]\n",
    "\n",
    "ns1 = SimpleNamespace()\n",
    "setup(ns1)\n",
    "store(ns1, 'john', 'tennis')\n",
    "store(ns1, 'jack', 'card')\n",
    "store(ns1, 'mark', 'soccer')\n",
    "store(ns1, 'sophie', 'basketball')\n",
    "\n",
    "\n",
    "ns2 = SimpleNamespace()\n",
    "setup(ns2)\n",
    "store(ns2, 'john', 'iphone')\n",
    "store(ns2, 'jack', 'ipad')\n",
    "store(ns2, 'mark', 'android')\n",
    "store(ns2, 'sophie', 'chrome')\n"
   ]
  },
  {
   "cell_type": "code",
   "execution_count": 100,
   "metadata": {},
   "outputs": [
    {
     "data": {
      "text/plain": [
       "namespace(n=8,\n",
       "          karr=[['john', 'sophie'], [], ['mark'], ['jack'], [], [], [], []],\n",
       "          varr=[['tennis', 'basketball'],\n",
       "                [],\n",
       "                ['soccer'],\n",
       "                ['card'],\n",
       "                [],\n",
       "                [],\n",
       "                [],\n",
       "                []])"
      ]
     },
     "execution_count": 100,
     "metadata": {},
     "output_type": "execute_result"
    }
   ],
   "source": [
    "ns1"
   ]
  },
  {
   "cell_type": "code",
   "execution_count": 101,
   "metadata": {},
   "outputs": [
    {
     "data": {
      "text/plain": [
       "namespace(n=8,\n",
       "          karr=[['john', 'sophie'], [], ['mark'], ['jack'], [], [], [], []],\n",
       "          varr=[['iphone', 'chrome'],\n",
       "                [],\n",
       "                ['android'],\n",
       "                ['ipad'],\n",
       "                [],\n",
       "                [],\n",
       "                [],\n",
       "                []])"
      ]
     },
     "execution_count": 101,
     "metadata": {},
     "output_type": "execute_result"
    }
   ],
   "source": [
    "ns2"
   ]
  },
  {
   "cell_type": "markdown",
   "metadata": {},
   "source": [
    "Finally, let's use Class (Python OOP)"
   ]
  },
  {
   "cell_type": "code",
   "execution_count": 104,
   "metadata": {},
   "outputs": [],
   "source": [
    "class Dict:\n",
    "    def setup(self):\n",
    "        self.n = 8\n",
    "        self.karr = [ [] for i in range(self.n)]\n",
    "        self.varr = [ [] for i in range(self.n)]\n",
    "\n",
    "    def store(self, key, value):\n",
    "        i = hash(key) % self.n\n",
    "        self.karr[i].append(key)\n",
    "        self.varr[i].append(value)\n",
    "\n",
    "    def lookup(self, key):\n",
    "        i = hash(key) % self.n\n",
    "        try:\n",
    "            j = self.karr[i].index(key)\n",
    "        except ValueError:\n",
    "            raise KeyError(key)\n",
    "        return self.varr[i][j]\n",
    "\n",
    "d1 = Dict()\n",
    "d1.setup()\n",
    "d1.store('john', 'tennis')\n",
    "d1.store('jack', 'card')\n",
    "d1.store('mark', 'soccer')\n",
    "d1.store('sophie', 'basketball')\n",
    "\n",
    "d2 = Dict()\n",
    "d2.setup()\n",
    "d2.store('john', 'iphone')\n",
    "d2.store('jack', 'ipad')\n",
    "d2.store('mark', 'android')\n",
    "d2.store('sophie', 'chrome')\n"
   ]
  },
  {
   "cell_type": "code",
   "execution_count": 106,
   "metadata": {},
   "outputs": [
    {
     "data": {
      "text/plain": [
       "'basketball'"
      ]
     },
     "execution_count": 106,
     "metadata": {},
     "output_type": "execute_result"
    }
   ],
   "source": [
    "d1.lookup('sophie')"
   ]
  },
  {
   "cell_type": "code",
   "execution_count": 107,
   "metadata": {},
   "outputs": [
    {
     "data": {
      "text/plain": [
       "'iphone'"
      ]
     },
     "execution_count": 107,
     "metadata": {},
     "output_type": "execute_result"
    }
   ],
   "source": [
    "d2.lookup('john')"
   ]
  },
  {
   "cell_type": "markdown",
   "metadata": {},
   "source": [
    "Let's make the methods calling easier"
   ]
  },
  {
   "cell_type": "code",
   "execution_count": 108,
   "metadata": {},
   "outputs": [],
   "source": [
    "class Dict:\n",
    "    def __init__(self):\n",
    "        self.n = 8\n",
    "        self.karr = [ [] for i in range(self.n)]\n",
    "        self.varr = [ [] for i in range(self.n)]\n",
    "\n",
    "    def __setitem__(self, key, value):\n",
    "        i = hash(key) % self.n\n",
    "        self.karr[i].append(key)\n",
    "        self.varr[i].append(value)\n",
    "\n",
    "    def __getitem__(self, key):\n",
    "        i = hash(key) % self.n\n",
    "        try:\n",
    "            j = self.karr[i].index(key)\n",
    "        except ValueError:\n",
    "            raise KeyError(key)\n",
    "        return self.varr[i][j]\n",
    "\n",
    "d1 = Dict()\n",
    "d1['john'] = 'tennis'\n",
    "d1['jack'] = 'card'\n",
    "d1['mark'] = 'soccer'\n",
    "d1['sophie'] = 'basketball'\n",
    "\n",
    "d2 = Dict()\n",
    "d2['john'] = 'iphone'\n",
    "d2['jack'] = 'ipad'\n",
    "d2['mark'] =  'android'\n",
    "d2['sophie'] = 'chrome'\n"
   ]
  },
  {
   "cell_type": "code",
   "execution_count": 110,
   "metadata": {},
   "outputs": [
    {
     "data": {
      "text/plain": [
       "'basketball'"
      ]
     },
     "execution_count": 110,
     "metadata": {},
     "output_type": "execute_result"
    }
   ],
   "source": [
    "d1['sophie']"
   ]
  },
  {
   "cell_type": "code",
   "execution_count": 113,
   "metadata": {},
   "outputs": [
    {
     "data": {
      "text/plain": [
       "'iphone'"
      ]
     },
     "execution_count": 113,
     "metadata": {},
     "output_type": "execute_result"
    }
   ],
   "source": [
    "d2['john']"
   ]
  },
  {
   "cell_type": "code",
   "execution_count": null,
   "metadata": {},
   "outputs": [],
   "source": []
  }
 ],
 "metadata": {
  "kernelspec": {
   "display_name": "Python 3",
   "language": "python",
   "name": "python3"
  },
  "language_info": {
   "codemirror_mode": {
    "name": "ipython",
    "version": 3
   },
   "file_extension": ".py",
   "mimetype": "text/x-python",
   "name": "python",
   "nbconvert_exporter": "python",
   "pygments_lexer": "ipython3",
   "version": "3.7.9"
  }
 },
 "nbformat": 4,
 "nbformat_minor": 4
}
